{
 "cells": [
  {
   "cell_type": "markdown",
   "metadata": {},
   "source": [
    "# Introduction - Business problem\n",
    "\n",
    "\n",
    "##### In this problem, we will help people who are looking for an appartment in Paris. It will enable them to know the cheaper places for instance or also the best residence districts. \n",
    "\n",
    "###### If they actually live in Paris, they will see if they pay more or less than the average price for their housing and if there are similar districts with lower rent. \n",
    "\n",
    "\n",
    "## Data \n",
    "\n",
    "##### Data on appartments will be collected by scrapping a local website with appartments listings for rent (se-loger.com) with price, size, district...\n",
    "\n",
    "##### Foursquare data to collect top venues for each ditrict."
   ]
  },
  {
   "cell_type": "code",
   "execution_count": null,
   "metadata": {},
   "outputs": [],
   "source": []
  }
 ],
 "metadata": {
  "kernelspec": {
   "display_name": "Python 3",
   "language": "python",
   "name": "python3"
  },
  "language_info": {
   "codemirror_mode": {
    "name": "ipython",
    "version": 3
   },
   "file_extension": ".py",
   "mimetype": "text/x-python",
   "name": "python",
   "nbconvert_exporter": "python",
   "pygments_lexer": "ipython3",
   "version": "3.7.6"
  }
 },
 "nbformat": 4,
 "nbformat_minor": 4
}
